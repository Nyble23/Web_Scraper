{
  "nbformat": 4,
  "nbformat_minor": 0,
  "metadata": {
    "colab": {
      "name": "DataScrapingynb",
      "provenance": []
    },
    "kernelspec": {
      "name": "python3",
      "display_name": "Python 3"
    },
    "language_info": {
      "name": "python"
    }
  },
  "cells": [
    {
      "cell_type": "markdown",
      "metadata": {
        "id": "I4vyTart5DU2"
      },
      "source": [
        "**install and import libraries**"
      ]
    },
    {
      "cell_type": "code",
      "metadata": {
        "id": "HiiDLUHY4kjC"
      },
      "source": [
        "pip install python-dateutil lxml requests selectorlib"
      ],
      "execution_count": null,
      "outputs": []
    },
    {
      "cell_type": "code",
      "metadata": {
        "id": "KFTOqDMp5Cyi"
      },
      "source": [
        "pip install requests-html"
      ],
      "execution_count": null,
      "outputs": []
    },
    {
      "cell_type": "code",
      "metadata": {
        "id": "MxRVUSqm5I9V"
      },
      "source": [
        "import requests\n",
        "from bs4 import BeautifulSoup\n",
        "from requests_html import HTMLSession\n",
        "import pandas as pd"
      ],
      "execution_count": null,
      "outputs": []
    },
    {
      "cell_type": "code",
      "metadata": {
        "id": "PiHmb6E85Mek"
      },
      "source": [
        "from selectorlib import Extractor\n",
        "import requests \n",
        "import json \n",
        "from time import sleep\n",
        "import csv\n",
        "from dateutil import parser as dateparser"
      ],
      "execution_count": 4,
      "outputs": []
    },
    {
      "cell_type": "markdown",
      "metadata": {
        "id": "_qvfKvRixzdN"
      },
      "source": [
        "**Set the path variable**"
      ]
    },
    {
      "cell_type": "code",
      "metadata": {
        "id": "hFaSamcj9L4Q"
      },
      "source": [
        "path_to_files = '/content/'"
      ],
      "execution_count": 5,
      "outputs": []
    },
    {
      "cell_type": "markdown",
      "metadata": {
        "id": "Kq1bANewx4xW"
      },
      "source": [
        "**Create an Extractor by reading from the YAML file**\n"
      ]
    },
    {
      "cell_type": "code",
      "metadata": {
        "id": "skQPK4Fn7NPp"
      },
      "source": [
        "e = Extractor.from_yaml_file(path_to_files + 'select_data.yml')"
      ],
      "execution_count": 41,
      "outputs": []
    },
    {
      "cell_type": "markdown",
      "metadata": {
        "id": "FfdVYFjnymXg"
      },
      "source": [
        "**Create a session object**"
      ]
    },
    {
      "cell_type": "code",
      "metadata": {
        "id": "2u8bBIGa7ZKo"
      },
      "source": [
        "session = HTMLSession()"
      ],
      "execution_count": 62,
      "outputs": []
    },
    {
      "cell_type": "markdown",
      "metadata": {
        "id": "H-WM8Fup1ppX"
      },
      "source": [
        "**START SCRAPPING**"
      ]
    },
    {
      "cell_type": "markdown",
      "metadata": {
        "id": "wlbk3ObJ1u1T"
      },
      "source": [
        "_Function to get the product ASINs of the first page of the search results on Amazon's website_"
      ]
    },
    {
      "cell_type": "code",
      "metadata": {
        "id": "TqcQam1w7eST"
      },
      "source": [
        "def get_asin_id(search):\n",
        "\n",
        "  # to handle space-separated terms\n",
        "  search = search.replace(' ','+')\n",
        "\n",
        "  # get requested data from the specified URL\n",
        "  requested_data = session.get(f'https://www.amazon.in/s?k={search}')\n",
        "\n",
        "  # extract product ASINs from the requested data\n",
        "  asins = requested_data.html.find('div.s-main-slot div[data-asin]')\n",
        "  \n",
        "  product_list = [asin.attrs['data-asin'] for asin in asins if asin.attrs['data-asin']!='']\n",
        "\n",
        "  return product_list"
      ],
      "execution_count": 9,
      "outputs": []
    },
    {
      "cell_type": "code",
      "metadata": {
        "id": "o1Fqd8vohR5-"
      },
      "source": [
        "# Mention the item to be searched. For scraping multiple objects a list can be used\n",
        "search_item = \"tshirt\""
      ],
      "execution_count": 10,
      "outputs": []
    },
    {
      "cell_type": "code",
      "metadata": {
        "id": "p9NSicvh7eMC",
        "colab": {
          "base_uri": "https://localhost:8080/"
        },
        "outputId": "0be3774c-e99b-4158-9825-2b977a27bf58"
      },
      "source": [
        "product_asin = get_asin_id(search_item)\n",
        "print(product_asin)"
      ],
      "execution_count": 14,
      "outputs": [
        {
          "output_type": "stream",
          "text": [
            "['B072C6S397', 'B01D8GCHAI', 'B08N71YW78', 'B089B36CYP', 'B08GWRCPDX', 'B08CDRGNHH', 'B08HNB3M38', 'B08PV6S2WF', 'B08N714Q2T', 'B08WK6NVK1', 'B07L3KJS2J', 'B0822CSJF6', 'B01GQEGYGC', 'B073X41D5S', 'B08H64VWFY', 'B08N63BSVM', 'B0855HG9HB', 'B07B2Y26C1', 'B08JQJYRZW', 'B07P56DH2C', 'B08TH9VSHW', 'B07M85FYKR', 'B07CK7BPQF', 'B07YDHKXW2', 'B08L9GV85M', 'B079W71K23', 'B08ZN7H1CD', 'B07CQMYL95', 'B08YXNN732', 'B07N89154N', 'B08C2SN8MV', 'B08V5J3SPW', 'B07F2B1SJS', 'B08KGV4M3J', 'B07R6ML9ZM', 'B075F7YC9M', 'B06Y2284FW', 'B0839Q11RD', 'B07HYY77ZT', 'B08X7Z5YB3', 'B07CXXHLY2', 'B082YB8Y41', 'B07NK11GTH', 'B07NJWN4BM', 'B012STPJMY', 'B079RL5JPR', 'B073X4KMFV', 'B01HGW6OBI', 'B089GXVCXN', 'B073X1MR71']\n"
          ],
          "name": "stdout"
        }
      ]
    },
    {
      "cell_type": "markdown",
      "metadata": {
        "id": "L6zvzg7tziCu"
      },
      "source": [
        ">The URL of the review page of all the items on Amazon is same, except the product ASIN in the URL. So, when we have list of product ASINs, we can easily generate review page urls corresponding to each item."
      ]
    },
    {
      "cell_type": "code",
      "metadata": {
        "id": "xX7YuJFf8tzd"
      },
      "source": [
        "def extract_review_url(product_asin):\n",
        "  \n",
        "  # save the extracted URLs in a text file\n",
        "  with open(path_to_files + f'urls_{search_item}.txt','w') as url_file:\n",
        "    for id in product_asin:\n",
        "      url = f'https://www.amazon.in/product-reviews/{id}/ref=cm_cr_dp_d_show_all_btm?ie=UTF8&reviewerType=all_reviews'\n",
        "      print(url)\n",
        "      url_file.write(url+'\\n')"
      ],
      "execution_count": 63,
      "outputs": []
    },
    {
      "cell_type": "code",
      "metadata": {
        "id": "30DoTyDI8xFY",
        "colab": {
          "base_uri": "https://localhost:8080/"
        },
        "outputId": "1af36a9a-79fe-4007-aaf5-338195a7d8fe"
      },
      "source": [
        "extract_review_url(product_asin)"
      ],
      "execution_count": 18,
      "outputs": [
        {
          "output_type": "stream",
          "text": [
            "https://www.amazon.in/product-reviews/B072C6S397/ref=cm_cr_dp_d_show_all_btm?ie=UTF8&reviewerType=all_reviews\n",
            "https://www.amazon.in/product-reviews/B01D8GCHAI/ref=cm_cr_dp_d_show_all_btm?ie=UTF8&reviewerType=all_reviews\n",
            "https://www.amazon.in/product-reviews/B08N71YW78/ref=cm_cr_dp_d_show_all_btm?ie=UTF8&reviewerType=all_reviews\n",
            "https://www.amazon.in/product-reviews/B089B36CYP/ref=cm_cr_dp_d_show_all_btm?ie=UTF8&reviewerType=all_reviews\n",
            "https://www.amazon.in/product-reviews/B08GWRCPDX/ref=cm_cr_dp_d_show_all_btm?ie=UTF8&reviewerType=all_reviews\n",
            "https://www.amazon.in/product-reviews/B08CDRGNHH/ref=cm_cr_dp_d_show_all_btm?ie=UTF8&reviewerType=all_reviews\n",
            "https://www.amazon.in/product-reviews/B08HNB3M38/ref=cm_cr_dp_d_show_all_btm?ie=UTF8&reviewerType=all_reviews\n",
            "https://www.amazon.in/product-reviews/B08PV6S2WF/ref=cm_cr_dp_d_show_all_btm?ie=UTF8&reviewerType=all_reviews\n",
            "https://www.amazon.in/product-reviews/B08N714Q2T/ref=cm_cr_dp_d_show_all_btm?ie=UTF8&reviewerType=all_reviews\n",
            "https://www.amazon.in/product-reviews/B08WK6NVK1/ref=cm_cr_dp_d_show_all_btm?ie=UTF8&reviewerType=all_reviews\n",
            "https://www.amazon.in/product-reviews/B07L3KJS2J/ref=cm_cr_dp_d_show_all_btm?ie=UTF8&reviewerType=all_reviews\n",
            "https://www.amazon.in/product-reviews/B0822CSJF6/ref=cm_cr_dp_d_show_all_btm?ie=UTF8&reviewerType=all_reviews\n",
            "https://www.amazon.in/product-reviews/B01GQEGYGC/ref=cm_cr_dp_d_show_all_btm?ie=UTF8&reviewerType=all_reviews\n",
            "https://www.amazon.in/product-reviews/B073X41D5S/ref=cm_cr_dp_d_show_all_btm?ie=UTF8&reviewerType=all_reviews\n",
            "https://www.amazon.in/product-reviews/B08H64VWFY/ref=cm_cr_dp_d_show_all_btm?ie=UTF8&reviewerType=all_reviews\n",
            "https://www.amazon.in/product-reviews/B08N63BSVM/ref=cm_cr_dp_d_show_all_btm?ie=UTF8&reviewerType=all_reviews\n",
            "https://www.amazon.in/product-reviews/B0855HG9HB/ref=cm_cr_dp_d_show_all_btm?ie=UTF8&reviewerType=all_reviews\n",
            "https://www.amazon.in/product-reviews/B07B2Y26C1/ref=cm_cr_dp_d_show_all_btm?ie=UTF8&reviewerType=all_reviews\n",
            "https://www.amazon.in/product-reviews/B08JQJYRZW/ref=cm_cr_dp_d_show_all_btm?ie=UTF8&reviewerType=all_reviews\n",
            "https://www.amazon.in/product-reviews/B07P56DH2C/ref=cm_cr_dp_d_show_all_btm?ie=UTF8&reviewerType=all_reviews\n",
            "https://www.amazon.in/product-reviews/B08TH9VSHW/ref=cm_cr_dp_d_show_all_btm?ie=UTF8&reviewerType=all_reviews\n",
            "https://www.amazon.in/product-reviews/B07M85FYKR/ref=cm_cr_dp_d_show_all_btm?ie=UTF8&reviewerType=all_reviews\n",
            "https://www.amazon.in/product-reviews/B07CK7BPQF/ref=cm_cr_dp_d_show_all_btm?ie=UTF8&reviewerType=all_reviews\n",
            "https://www.amazon.in/product-reviews/B07YDHKXW2/ref=cm_cr_dp_d_show_all_btm?ie=UTF8&reviewerType=all_reviews\n",
            "https://www.amazon.in/product-reviews/B08L9GV85M/ref=cm_cr_dp_d_show_all_btm?ie=UTF8&reviewerType=all_reviews\n",
            "https://www.amazon.in/product-reviews/B079W71K23/ref=cm_cr_dp_d_show_all_btm?ie=UTF8&reviewerType=all_reviews\n",
            "https://www.amazon.in/product-reviews/B08ZN7H1CD/ref=cm_cr_dp_d_show_all_btm?ie=UTF8&reviewerType=all_reviews\n",
            "https://www.amazon.in/product-reviews/B07CQMYL95/ref=cm_cr_dp_d_show_all_btm?ie=UTF8&reviewerType=all_reviews\n",
            "https://www.amazon.in/product-reviews/B08YXNN732/ref=cm_cr_dp_d_show_all_btm?ie=UTF8&reviewerType=all_reviews\n",
            "https://www.amazon.in/product-reviews/B07N89154N/ref=cm_cr_dp_d_show_all_btm?ie=UTF8&reviewerType=all_reviews\n",
            "https://www.amazon.in/product-reviews/B08C2SN8MV/ref=cm_cr_dp_d_show_all_btm?ie=UTF8&reviewerType=all_reviews\n",
            "https://www.amazon.in/product-reviews/B08V5J3SPW/ref=cm_cr_dp_d_show_all_btm?ie=UTF8&reviewerType=all_reviews\n",
            "https://www.amazon.in/product-reviews/B07F2B1SJS/ref=cm_cr_dp_d_show_all_btm?ie=UTF8&reviewerType=all_reviews\n",
            "https://www.amazon.in/product-reviews/B08KGV4M3J/ref=cm_cr_dp_d_show_all_btm?ie=UTF8&reviewerType=all_reviews\n",
            "https://www.amazon.in/product-reviews/B07R6ML9ZM/ref=cm_cr_dp_d_show_all_btm?ie=UTF8&reviewerType=all_reviews\n",
            "https://www.amazon.in/product-reviews/B075F7YC9M/ref=cm_cr_dp_d_show_all_btm?ie=UTF8&reviewerType=all_reviews\n",
            "https://www.amazon.in/product-reviews/B06Y2284FW/ref=cm_cr_dp_d_show_all_btm?ie=UTF8&reviewerType=all_reviews\n",
            "https://www.amazon.in/product-reviews/B0839Q11RD/ref=cm_cr_dp_d_show_all_btm?ie=UTF8&reviewerType=all_reviews\n",
            "https://www.amazon.in/product-reviews/B07HYY77ZT/ref=cm_cr_dp_d_show_all_btm?ie=UTF8&reviewerType=all_reviews\n",
            "https://www.amazon.in/product-reviews/B08X7Z5YB3/ref=cm_cr_dp_d_show_all_btm?ie=UTF8&reviewerType=all_reviews\n",
            "https://www.amazon.in/product-reviews/B07CXXHLY2/ref=cm_cr_dp_d_show_all_btm?ie=UTF8&reviewerType=all_reviews\n",
            "https://www.amazon.in/product-reviews/B082YB8Y41/ref=cm_cr_dp_d_show_all_btm?ie=UTF8&reviewerType=all_reviews\n",
            "https://www.amazon.in/product-reviews/B07NK11GTH/ref=cm_cr_dp_d_show_all_btm?ie=UTF8&reviewerType=all_reviews\n",
            "https://www.amazon.in/product-reviews/B07NJWN4BM/ref=cm_cr_dp_d_show_all_btm?ie=UTF8&reviewerType=all_reviews\n",
            "https://www.amazon.in/product-reviews/B012STPJMY/ref=cm_cr_dp_d_show_all_btm?ie=UTF8&reviewerType=all_reviews\n",
            "https://www.amazon.in/product-reviews/B079RL5JPR/ref=cm_cr_dp_d_show_all_btm?ie=UTF8&reviewerType=all_reviews\n",
            "https://www.amazon.in/product-reviews/B073X4KMFV/ref=cm_cr_dp_d_show_all_btm?ie=UTF8&reviewerType=all_reviews\n",
            "https://www.amazon.in/product-reviews/B01HGW6OBI/ref=cm_cr_dp_d_show_all_btm?ie=UTF8&reviewerType=all_reviews\n",
            "https://www.amazon.in/product-reviews/B089GXVCXN/ref=cm_cr_dp_d_show_all_btm?ie=UTF8&reviewerType=all_reviews\n",
            "https://www.amazon.in/product-reviews/B073X1MR71/ref=cm_cr_dp_d_show_all_btm?ie=UTF8&reviewerType=all_reviews\n"
          ],
          "name": "stdout"
        }
      ]
    },
    {
      "cell_type": "code",
      "metadata": {
        "id": "ifCsLxLlfBye"
      },
      "source": [
        "def scrape(url):    \n",
        "  headers = {\n",
        "  'authority': 'www.amazon.com',\n",
        "  'pragma': 'no-cache',\n",
        "  'cache-control': 'no-cache',\n",
        "  'dnt': '1',\n",
        "  'upgrade-insecure-requests': '1',\n",
        "  'user-agent': 'Mozilla/5.0 (X11; CrOS x86_64 8172.45.0) AppleWebKit/537.36 (KHTML, like Gecko) Chrome/51.0.2704.64 Safari/537.36',\n",
        "  'accept': 'text/html,application/xhtml+xml,application/xml;q=0.9,image/webp,image/apng,*/*;q=0.8,application/signed-exchange;v=b3;q=0.9',\n",
        "  'sec-fetch-site': 'none',\n",
        "  'sec-fetch-mode': 'navigate',\n",
        "  'sec-fetch-dest': 'document',\n",
        "  'accept-language': 'en-GB,en-US;q=0.9,en;q=0.8',\n",
        "  }\n",
        "\n",
        "  # Download the page using requests\n",
        "  print(\"Downloading %s\"%url)\n",
        "  r = requests.get(url, headers=headers)\n",
        "  # Simple check to check if page was blocked (Usually 503)\n",
        "  if r.status_code > 500:\n",
        "    if \"To discuss automated access to Amazon data please contact\" in r.text:\n",
        "      print(\"Page %s was blocked by Amazon. Please try using better proxies\\n\"%url)\n",
        "    else:\n",
        "      print(\"Page %s must have been blocked by Amazon as the status code was %d\"%(url,r.status_code))\n",
        "      return None\n",
        "\n",
        "  # Pass the HTML of the page and create \n",
        "  return e.extract(r.text)"
      ],
      "execution_count": 42,
      "outputs": []
    },
    {
      "cell_type": "code",
      "metadata": {
        "id": "WwZ2xbhOfBvY"
      },
      "source": [
        "# specify the text file containing URLs as input file and the csv file to be generated as output file\n",
        "\n",
        "with open(path_to_files + f'urls_{search_item}.txt','r') as urllist, open(path_to_files + f'data_{search_item}.csv','w') as outfile:\n",
        "  # specify the columns that you want in your csv file\n",
        "  writer = csv.DictWriter(outfile, fieldnames=[\"product_name\",\"product_variant\",\"product_image\",\"avg_reviews\",\n",
        "                                              \"review_title\",\"star_rating\",\"review_date\",\"review_content\",\n",
        "                                             \"helpful\",\"variant\",\"verified\",\"review_images\",\"author_profile\",\"author_name\"],quoting=csv.QUOTE_ALL)\n",
        "  writer.writeheader()\n",
        "\n",
        "  for url in urllist.readlines():\n",
        "    scrapped_data = scrape(url)                   # for each url in the urllist, scrap the data\n",
        "\n",
        "    # Pre-process the required fields in the scrapped data\n",
        "    if scrapped_data:\n",
        "      for r in scrapped_data[\"Reviews\"]:\n",
        "        r[\"product_name\"] = scrapped_data['Product_info']['product_name']\n",
        "        r[\"product_variant\"] = scrapped_data['Product_info']['product_variant']\n",
        "        r[\"product_image\"] = scrapped_data['Product_info']['product_image']\n",
        "        r[\"avg_reviews\"] = scrapped_data['Product_info']['avg_reviews']\n",
        "\n",
        "        r['star_rating'] = r['star_rating'].split(' out of')[0]\n",
        "\n",
        "        date = r['review_date'].split('on ')[-1]\n",
        "        r['review_date'] = dateparser.parse(date).strftime('%d %b %Y')\n",
        "        \n",
        "        r['author_profile'] = 'https://www.amazon.in' + r['author_profile']\n",
        "        if r['helpful']:\n",
        "          try:\n",
        "            r['helpful'] = r['helpful'].split('people found this helpful')[0].strip()\n",
        "          except:\n",
        "            r['helpful'] = r['helpful'].split('person found this helpful')[0].strip()\n",
        "\n",
        "        if 'verified' in r:\n",
        "          if 'Verified Purchase' in r['verified']:\n",
        "            r['verified'] = 'Yes'\n",
        "          else:\n",
        "            r['verified'] = 'Yes'\n",
        "        \n",
        "        if r['review_images']:\n",
        "          r['review_images'] = \"\\n\".join(r['review_images'])\n",
        "      \n",
        "        writer.writerow(r)"
      ],
      "execution_count": null,
      "outputs": []
    },
    {
      "cell_type": "markdown",
      "metadata": {
        "id": "cOHvoi7Z1HdM"
      },
      "source": [
        "_Check how the generated csv file looks like_"
      ]
    },
    {
      "cell_type": "code",
      "metadata": {
        "colab": {
          "base_uri": "https://localhost:8080/",
          "height": 1000
        },
        "id": "gaERXH_RfIvv",
        "outputId": "7621cb52-d3b1-45e7-d25e-89d340c8bcf5"
      },
      "source": [
        "# load the generated csv file and store it in a dataFrame.\n",
        "\n",
        "df = pd.read_csv(path_to_files + f'data_{search_item}.csv')\n",
        "df"
      ],
      "execution_count": 60,
      "outputs": [
        {
          "output_type": "execute_result",
          "data": {
            "text/html": [
              "<div>\n",
              "<style scoped>\n",
              "    .dataframe tbody tr th:only-of-type {\n",
              "        vertical-align: middle;\n",
              "    }\n",
              "\n",
              "    .dataframe tbody tr th {\n",
              "        vertical-align: top;\n",
              "    }\n",
              "\n",
              "    .dataframe thead th {\n",
              "        text-align: right;\n",
              "    }\n",
              "</style>\n",
              "<table border=\"1\" class=\"dataframe\">\n",
              "  <thead>\n",
              "    <tr style=\"text-align: right;\">\n",
              "      <th></th>\n",
              "      <th>product_name</th>\n",
              "      <th>product_variant</th>\n",
              "      <th>product_image</th>\n",
              "      <th>avg_reviews</th>\n",
              "      <th>review_title</th>\n",
              "      <th>star_rating</th>\n",
              "      <th>review_date</th>\n",
              "      <th>review_content</th>\n",
              "      <th>helpful</th>\n",
              "      <th>variant</th>\n",
              "      <th>verified</th>\n",
              "      <th>review_images</th>\n",
              "      <th>author_profile</th>\n",
              "      <th>author_name</th>\n",
              "    </tr>\n",
              "  </thead>\n",
              "  <tbody>\n",
              "    <tr>\n",
              "      <th>0</th>\n",
              "      <td>Scott International Men's Regular Fit T Shirt ...</td>\n",
              "      <td>Size: 2XL</td>\n",
              "      <td>https://m.media-amazon.com/images/I/41dhbLM0GO...</td>\n",
              "      <td>3.3 out of 5</td>\n",
              "      <td>Never buy this product!</td>\n",
              "      <td>1.0</td>\n",
              "      <td>11 Aug 2017</td>\n",
              "      <td>Very poor quality. I had bought XL size but af...</td>\n",
              "      <td>8</td>\n",
              "      <td>Size: XL</td>\n",
              "      <td>Yes</td>\n",
              "      <td>NaN</td>\n",
              "      <td>https://www.amazon.in/gp/profile/amzn1.account...</td>\n",
              "      <td>Amazon Customer</td>\n",
              "    </tr>\n",
              "    <tr>\n",
              "      <th>1</th>\n",
              "      <td>Scott International Men's Regular Fit T Shirt ...</td>\n",
              "      <td>Size: 2XL</td>\n",
              "      <td>https://m.media-amazon.com/images/I/41dhbLM0GO...</td>\n",
              "      <td>3.3 out of 5</td>\n",
              "      <td>1 sleeve was defected</td>\n",
              "      <td>3.0</td>\n",
              "      <td>26 Sep 2017</td>\n",
              "      <td>1 sleeve was defected</td>\n",
              "      <td>6</td>\n",
              "      <td>Size: M</td>\n",
              "      <td>Yes</td>\n",
              "      <td>NaN</td>\n",
              "      <td>https://www.amazon.in/gp/profile/amzn1.account...</td>\n",
              "      <td>Vivek Kumar</td>\n",
              "    </tr>\n",
              "    <tr>\n",
              "      <th>2</th>\n",
              "      <td>Scott International Men's Regular Fit T Shirt ...</td>\n",
              "      <td>Size: 2XL</td>\n",
              "      <td>https://m.media-amazon.com/images/I/41dhbLM0GO...</td>\n",
              "      <td>3.3 out of 5</td>\n",
              "      <td>Value for money</td>\n",
              "      <td>5.0</td>\n",
              "      <td>17 Apr 2021</td>\n",
              "      <td>Good quality</td>\n",
              "      <td>NaN</td>\n",
              "      <td>NaN</td>\n",
              "      <td>Yes</td>\n",
              "      <td>NaN</td>\n",
              "      <td>https://www.amazon.in/gp/profile/amzn1.account...</td>\n",
              "      <td>B C Rout</td>\n",
              "    </tr>\n",
              "    <tr>\n",
              "      <th>3</th>\n",
              "      <td>Scott International Men's Regular Fit T Shirt ...</td>\n",
              "      <td>Size: 2XL</td>\n",
              "      <td>https://m.media-amazon.com/images/I/41dhbLM0GO...</td>\n",
              "      <td>3.3 out of 5</td>\n",
              "      <td>Too short</td>\n",
              "      <td>3.0</td>\n",
              "      <td>14 May 2021</td>\n",
              "      <td>Size chart doesn't seems to be accurate, as M ...</td>\n",
              "      <td>NaN</td>\n",
              "      <td>Size: M</td>\n",
              "      <td>Yes</td>\n",
              "      <td>NaN</td>\n",
              "      <td>https://www.amazon.in/gp/profile/amzn1.account...</td>\n",
              "      <td>mahesh kumar ramagiri</td>\n",
              "    </tr>\n",
              "    <tr>\n",
              "      <th>4</th>\n",
              "      <td>Scott International Men's Regular Fit T Shirt ...</td>\n",
              "      <td>Size: 2XL</td>\n",
              "      <td>https://m.media-amazon.com/images/I/41dhbLM0GO...</td>\n",
              "      <td>3.3 out of 5</td>\n",
              "      <td>not worth of money</td>\n",
              "      <td>2.0</td>\n",
              "      <td>24 Jul 2017</td>\n",
              "      <td>i would recommend not to purchase this product...</td>\n",
              "      <td>5</td>\n",
              "      <td>NaN</td>\n",
              "      <td>Yes</td>\n",
              "      <td>NaN</td>\n",
              "      <td>https://www.amazon.in/gp/profile/amzn1.account...</td>\n",
              "      <td>jaynt</td>\n",
              "    </tr>\n",
              "    <tr>\n",
              "      <th>...</th>\n",
              "      <td>...</td>\n",
              "      <td>...</td>\n",
              "      <td>...</td>\n",
              "      <td>...</td>\n",
              "      <td>...</td>\n",
              "      <td>...</td>\n",
              "      <td>...</td>\n",
              "      <td>...</td>\n",
              "      <td>...</td>\n",
              "      <td>...</td>\n",
              "      <td>...</td>\n",
              "      <td>...</td>\n",
              "      <td>...</td>\n",
              "      <td>...</td>\n",
              "    </tr>\n",
              "    <tr>\n",
              "      <th>56</th>\n",
              "      <td>AWG ALL WEATHER GEAR Men's Regular Fit Cotton ...</td>\n",
              "      <td>Colour: Navy Blue Melange with Tipping Size: 2XL</td>\n",
              "      <td>https://m.media-amazon.com/images/I/41FyqnWWSz...</td>\n",
              "      <td>3.6 out of 5</td>\n",
              "      <td>I got the wrong colour!</td>\n",
              "      <td>3.0</td>\n",
              "      <td>17 Jan 2021</td>\n",
              "      <td>I've ordered for the navy blue but I got the r...</td>\n",
              "      <td>4</td>\n",
              "      <td>Colour: Navy Blue Melange with Tipping Size: L</td>\n",
              "      <td>Yes</td>\n",
              "      <td>https://images-na.ssl-images-amazon.com/images...</td>\n",
              "      <td>https://www.amazon.in/gp/profile/amzn1.account...</td>\n",
              "      <td>Surendran C K</td>\n",
              "    </tr>\n",
              "    <tr>\n",
              "      <th>57</th>\n",
              "      <td>AWG ALL WEATHER GEAR Men's Regular Fit Cotton ...</td>\n",
              "      <td>Colour: Navy Blue Melange with Tipping Size: 2XL</td>\n",
              "      <td>https://m.media-amazon.com/images/I/41FyqnWWSz...</td>\n",
              "      <td>3.6 out of 5</td>\n",
              "      <td>Seriously deserve 5 stars</td>\n",
              "      <td>5.0</td>\n",
              "      <td>13 Apr 2021</td>\n",
              "      <td>I have given it five start because product its...</td>\n",
              "      <td>One person found this helpful</td>\n",
              "      <td>Colour: Solid Grey Size: S</td>\n",
              "      <td>Yes</td>\n",
              "      <td>NaN</td>\n",
              "      <td>https://www.amazon.in/gp/profile/amzn1.account...</td>\n",
              "      <td>Himanshu kandhari</td>\n",
              "    </tr>\n",
              "    <tr>\n",
              "      <th>58</th>\n",
              "      <td>AWG ALL WEATHER GEAR Men's Regular Fit Cotton ...</td>\n",
              "      <td>Colour: Navy Blue Melange with Tipping Size: 2XL</td>\n",
              "      <td>https://m.media-amazon.com/images/I/41FyqnWWSz...</td>\n",
              "      <td>3.6 out of 5</td>\n",
              "      <td>A good quality product</td>\n",
              "      <td>5.0</td>\n",
              "      <td>22 Feb 2021</td>\n",
              "      <td>The product fits as expected. It is comfortabl...</td>\n",
              "      <td>One person found this helpful</td>\n",
              "      <td>Colour: Navy Blue Melange with Tipping Size: L</td>\n",
              "      <td>Yes</td>\n",
              "      <td>NaN</td>\n",
              "      <td>https://www.amazon.in/gp/profile/amzn1.account...</td>\n",
              "      <td>huzefa</td>\n",
              "    </tr>\n",
              "    <tr>\n",
              "      <th>59</th>\n",
              "      <td>AWG ALL WEATHER GEAR Men's Regular Fit Cotton ...</td>\n",
              "      <td>Colour: Navy Blue Melange with Tipping Size: 2XL</td>\n",
              "      <td>https://m.media-amazon.com/images/I/41FyqnWWSz...</td>\n",
              "      <td>3.6 out of 5</td>\n",
              "      <td>Product is different compare to the picture here</td>\n",
              "      <td>2.0</td>\n",
              "      <td>29 Oct 2020</td>\n",
              "      <td>Product was different compared to what is in t...</td>\n",
              "      <td>3</td>\n",
              "      <td>NaN</td>\n",
              "      <td>Yes</td>\n",
              "      <td>NaN</td>\n",
              "      <td>https://www.amazon.in/gp/profile/amzn1.account...</td>\n",
              "      <td>Vinaya raj</td>\n",
              "    </tr>\n",
              "    <tr>\n",
              "      <th>60</th>\n",
              "      <td>AWG ALL WEATHER GEAR Men's Regular Fit Cotton ...</td>\n",
              "      <td>Colour: Navy Blue Melange with Tipping Size: 2XL</td>\n",
              "      <td>https://m.media-amazon.com/images/I/41FyqnWWSz...</td>\n",
              "      <td>3.6 out of 5</td>\n",
              "      <td>Decent product</td>\n",
              "      <td>4.0</td>\n",
              "      <td>01 May 2021</td>\n",
              "      <td>The product is good. The fit is good although ...</td>\n",
              "      <td>NaN</td>\n",
              "      <td>Colour: Solid Black Size: XL</td>\n",
              "      <td>Yes</td>\n",
              "      <td>NaN</td>\n",
              "      <td>https://www.amazon.in/gp/profile/amzn1.account...</td>\n",
              "      <td>Ac</td>\n",
              "    </tr>\n",
              "  </tbody>\n",
              "</table>\n",
              "<p>61 rows × 14 columns</p>\n",
              "</div>"
            ],
            "text/plain": [
              "                                         product_name  ...            author_name\n",
              "0   Scott International Men's Regular Fit T Shirt ...  ...        Amazon Customer\n",
              "1   Scott International Men's Regular Fit T Shirt ...  ...            Vivek Kumar\n",
              "2   Scott International Men's Regular Fit T Shirt ...  ...               B C Rout\n",
              "3   Scott International Men's Regular Fit T Shirt ...  ...  mahesh kumar ramagiri\n",
              "4   Scott International Men's Regular Fit T Shirt ...  ...                  jaynt\n",
              "..                                                ...  ...                    ...\n",
              "56  AWG ALL WEATHER GEAR Men's Regular Fit Cotton ...  ...          Surendran C K\n",
              "57  AWG ALL WEATHER GEAR Men's Regular Fit Cotton ...  ...      Himanshu kandhari\n",
              "58  AWG ALL WEATHER GEAR Men's Regular Fit Cotton ...  ...                 huzefa\n",
              "59  AWG ALL WEATHER GEAR Men's Regular Fit Cotton ...  ...             Vinaya raj\n",
              "60  AWG ALL WEATHER GEAR Men's Regular Fit Cotton ...  ...                     Ac\n",
              "\n",
              "[61 rows x 14 columns]"
            ]
          },
          "metadata": {
            "tags": []
          },
          "execution_count": 60
        }
      ]
    },
    {
      "cell_type": "code",
      "metadata": {
        "id": "-Z6vnfjFwC5g"
      },
      "source": [
        ""
      ],
      "execution_count": null,
      "outputs": []
    }
  ]
}